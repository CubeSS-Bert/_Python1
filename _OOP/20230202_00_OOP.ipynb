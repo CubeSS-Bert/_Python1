{
 "cells": [
  {
   "cell_type": "code",
   "execution_count": 2,
   "metadata": {},
   "outputs": [
    {
     "name": "stdout",
     "output_type": "stream",
     "text": [
      "HELLO WORLD.\n",
      "Hello World.\n"
     ]
    }
   ],
   "source": [
    "def format_string(string, formatter=None):\n",
    "    \n",
    "    class DefaultFormatter:\n",
    "        def format(self, string):\n",
    "            return str(string).title()\n",
    "        \n",
    "    if not formatter:\n",
    "        formatter = DefaultFormatter()\n",
    "    \n",
    "    return formatter.format(string)\n",
    "\n",
    "hello_string = \"hello world.\"\n",
    "\n",
    "class AnotherFotmatter:\n",
    "    def format(self, string):\n",
    "        return str(string).upper()\n",
    "\n",
    "formatter = AnotherFotmatter()\n",
    "\n",
    "print(format_string(hello_string, formatter))\n",
    "print(format_string(hello_string))\n",
    "\n",
    "\n"
   ]
  },
  {
   "cell_type": "code",
   "execution_count": 7,
   "metadata": {},
   "outputs": [
    {
     "name": "stdout",
     "output_type": "stream",
     "text": [
      "Ziet ge wel\n",
      "Loser\n",
      "Ziet ge wel\n"
     ]
    },
    {
     "ename": "AttributeError",
     "evalue": "'SecretString' object has no attribute '__plain_string'",
     "output_type": "error",
     "traceback": [
      "\u001b[1;31m---------------------------------------------------------------------------\u001b[0m",
      "\u001b[1;31mAttributeError\u001b[0m                            Traceback (most recent call last)",
      "Cell \u001b[1;32mIn[7], line 18\u001b[0m\n\u001b[0;32m     16\u001b[0m \u001b[39mprint\u001b[39m(secret_string\u001b[39m.\u001b[39mdecrypt(\u001b[39m'\u001b[39m\u001b[39mAntwerpen\u001b[39m\u001b[39m'\u001b[39m))\n\u001b[0;32m     17\u001b[0m \u001b[39mprint\u001b[39m(secret_string\u001b[39m.\u001b[39m_SecretString__plain_string)\n\u001b[1;32m---> 18\u001b[0m \u001b[39mprint\u001b[39m(secret_string\u001b[39m.\u001b[39;49m__plain_string)\n",
      "\u001b[1;31mAttributeError\u001b[0m: 'SecretString' object has no attribute '__plain_string'"
     ]
    }
   ],
   "source": [
    "class SecretString:\n",
    "    \n",
    "    def __init__(self, plain_string, pass_phrase):\n",
    "        self.__plain_string = plain_string\n",
    "        self.__pass_phrase = pass_phrase\n",
    "        \n",
    "    def decrypt(self, pass_phrase):\n",
    "        if pass_phrase == self.__pass_phrase:\n",
    "            return self.__plain_string\n",
    "        else:\n",
    "            return 'Loser'\n",
    "\n",
    "\n",
    "secret_string = SecretString(\"Ziet ge wel\", \"Antwerp\")\n",
    "print(secret_string.decrypt('Antwerp'))\n",
    "print(secret_string.decrypt('Antwerpen'))\n",
    "print(secret_string._SecretString__plain_string)\n",
    "print(secret_string.__plain_string)\n",
    "        \n",
    "        \n",
    "        "
   ]
  },
  {
   "cell_type": "code",
   "execution_count": null,
   "metadata": {},
   "outputs": [],
   "source": []
  }
 ],
 "metadata": {
  "kernelspec": {
   "display_name": "Python 3",
   "language": "python",
   "name": "python3"
  },
  "language_info": {
   "codemirror_mode": {
    "name": "ipython",
    "version": 3
   },
   "file_extension": ".py",
   "mimetype": "text/x-python",
   "name": "python",
   "nbconvert_exporter": "python",
   "pygments_lexer": "ipython3",
   "version": "3.10.7"
  },
  "orig_nbformat": 4,
  "vscode": {
   "interpreter": {
    "hash": "10b5b8b0c809a54d908a56e744db0cc13ad765be1baa02395bc99be9b9dbe76c"
   }
  }
 },
 "nbformat": 4,
 "nbformat_minor": 2
}
