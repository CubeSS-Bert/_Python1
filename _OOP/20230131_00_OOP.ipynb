{
 "cells": [
  {
   "cell_type": "code",
   "execution_count": 2,
   "metadata": {},
   "outputs": [],
   "source": [
    "NAMES = ['A', 2, 3, 4, 5, 6, 7, 8, 9, 10, 'J', 'Q', 'K']\n",
    "SUITS = ['Clubs', 'Diamonds', 'Hearts', 'Spades'] \n",
    "HIGH_CARDS = ['A', 'J', 'Q', 'K']\n",
    "\n",
    "\n",
    "\n",
    "\n",
    "class Dealer:\n",
    "    \n",
    "    def __init__(self):\n",
    "        self.cards = []\n",
    "\n",
    "    def deal(self):\n",
    "        pass\n",
    "    \n",
    "    def create_decks(self, number_of_decks):\n",
    "        for i in range(number_of_decks):\n",
    "            deck = Deck()\n",
    "            self.cards += (deck.cards)\n",
    "            \n",
    "\n",
    "class Deck:\n",
    "    \n",
    "    def __init__(self):\n",
    "        self.cards = []\n",
    "        self._generate_cards()\n",
    "    \n",
    "    def shuffle(self):\n",
    "        pass\n",
    "    \n",
    "    def _generate_cards(self):\n",
    "        for name in NAMES:\n",
    "            for suit in SUITS:\n",
    "                self.cards.append(Card(name, suit))  \n",
    "    \n",
    "      \n",
    "class Card:\n",
    "    \n",
    "    def __init__(self, name, suit):\n",
    "        self.name = name\n",
    "        self.suit = suit  \n",
    "        # self.set_value = self.set_value()\n",
    "    \n",
    "    def set_value(self):\n",
    "        # if self.name in HIGH_CARDS:\n",
    "        #     self.value = 10\n",
    "        # else:\n",
    "        #     self.value = self.name\n",
    "        pass  \n",
    "    \n",
    "    def __str__(self):\n",
    "        return f\"{self.name} - {self.suit}\"\n",
    "      "
   ]
  },
  {
   "cell_type": "code",
   "execution_count": null,
   "metadata": {},
   "outputs": [],
   "source": [
    "deck = Deck()\n",
    "\n",
    "for card in deck.cards:\n",
    "    print(card)\n"
   ]
  },
  {
   "cell_type": "code",
   "execution_count": 25,
   "metadata": {},
   "outputs": [
    {
     "name": "stdout",
     "output_type": "stream",
     "text": [
      "260\n"
     ]
    }
   ],
   "source": [
    "dealer = Dealer()\n",
    "dealer.create_decks(5)\n",
    "\n",
    "cards = dealer.cards\n",
    "print(len(cards))\n",
    "\n"
   ]
  },
  {
   "cell_type": "code",
   "execution_count": 3,
   "metadata": {},
   "outputs": [
    {
     "name": "stdout",
     "output_type": "stream",
     "text": [
      "Help on class Dealer in module __main__:\n",
      "\n",
      "class Dealer(builtins.object)\n",
      " |  Methods defined here:\n",
      " |  \n",
      " |  __init__(self)\n",
      " |      Initialize self.  See help(type(self)) for accurate signature.\n",
      " |  \n",
      " |  create_decks(self, number_of_decks)\n",
      " |  \n",
      " |  deal(self)\n",
      " |  \n",
      " |  ----------------------------------------------------------------------\n",
      " |  Data descriptors defined here:\n",
      " |  \n",
      " |  __dict__\n",
      " |      dictionary for instance variables (if defined)\n",
      " |  \n",
      " |  __weakref__\n",
      " |      list of weak references to the object (if defined)\n",
      "\n"
     ]
    }
   ],
   "source": [
    "help(Dealer)\n",
    "\n"
   ]
  }
 ],
 "metadata": {
  "kernelspec": {
   "display_name": "Python 3",
   "language": "python",
   "name": "python3"
  },
  "language_info": {
   "codemirror_mode": {
    "name": "ipython",
    "version": 3
   },
   "file_extension": ".py",
   "mimetype": "text/x-python",
   "name": "python",
   "nbconvert_exporter": "python",
   "pygments_lexer": "ipython3",
   "version": "3.10.7"
  },
  "orig_nbformat": 4,
  "vscode": {
   "interpreter": {
    "hash": "10b5b8b0c809a54d908a56e744db0cc13ad765be1baa02395bc99be9b9dbe76c"
   }
  }
 },
 "nbformat": 4,
 "nbformat_minor": 2
}
