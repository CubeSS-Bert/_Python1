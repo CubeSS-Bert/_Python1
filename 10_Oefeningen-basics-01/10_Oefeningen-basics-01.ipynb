{
 "cells": [
  {
   "cell_type": "code",
   "execution_count": 3,
   "metadata": {},
   "outputs": [
    {
     "name": "stdout",
     "output_type": "stream",
     "text": [
      "kleiner\n"
     ]
    }
   ],
   "source": [
    "# ************************************************ 01.1\n",
    "print(3*4)"
   ]
  },
  {
   "cell_type": "code",
   "execution_count": 4,
   "metadata": {},
   "outputs": [
    {
     "name": "stdout",
     "output_type": "stream",
     "text": [
      "<\n"
     ]
    }
   ],
   "source": [
    "# ************************************************ 01.2\n",
    "if 4.6 < 5:\n",
    "    print(\"<\")\n",
    "else: print(\">=\")"
   ]
  },
  {
   "cell_type": "code",
   "execution_count": 8,
   "metadata": {},
   "outputs": [
    {
     "name": "stdout",
     "output_type": "stream",
     "text": [
      "1\n",
      "0\n",
      "3\n"
     ]
    }
   ],
   "source": [
    "# ************************************************ 01.3\n",
    "print(3//2)\n",
    "print(3//4)\n",
    "print(3%4)"
   ]
  },
  {
   "cell_type": "code",
   "execution_count": null,
   "metadata": {},
   "outputs": [],
   "source": [
    "getal = int(input(\"Geef een getal tussen 1 en 100: \"))\n",
    "\n",
    "if getal%2==0:\n",
    "    print(f\"Getal {getal} is even\")\n",
    "else: \n",
    "    print(f\"Getal {getal} is oneven\")\n"
   ]
  },
  {
   "cell_type": "code",
   "execution_count": 9,
   "metadata": {},
   "outputs": [
    {
     "name": "stdout",
     "output_type": "stream",
     "text": [
      "C\n"
     ]
    }
   ],
   "source": [
    "# ************************************************ 01.7\n",
    "quotering = \"F\"\n",
    "getal = int(input(\"Geef een getal  van 0 tot 20:\"))\n",
    "\n",
    "if getal < 5:\n",
    "    quotering = \"F\"\n",
    "elif getal < 9:\n",
    "    quotering = \"E\"\n",
    "elif getal < 12:\n",
    "    quotering = \"D\"\n",
    "elif getal < 15:\n",
    "    quotering = \"C\"\n",
    "elif getal < 18:\n",
    "    quotering = \"B\"\n",
    "else: quotering = \"A\"\n",
    "\n",
    "print(quotering)"
   ]
  },
  {
   "cell_type": "code",
   "execution_count": 11,
   "metadata": {},
   "outputs": [
    {
     "name": "stdout",
     "output_type": "stream",
     "text": [
      "1\n",
      "2\n",
      "3\n",
      "4\n",
      "5\n"
     ]
    }
   ],
   "source": [
    "# ************************************************ 01.8\n",
    "getal = int(input(\"Geef een getal tussen 1 en 10:\"))\n",
    "for n in range(getal):\n",
    "    if n != 0:\n",
    "        print(n)"
   ]
  },
  {
   "cell_type": "code",
   "execution_count": 13,
   "metadata": {},
   "outputs": [
    {
     "name": "stdout",
     "output_type": "stream",
     "text": [
      "Alle getallen die deelbaar zijn door 9:\n",
      "0\n",
      "9\n",
      "18\n",
      "27\n"
     ]
    }
   ],
   "source": [
    "# ************************************************ 01.9\n",
    "getal = int(input(\"Geef een getal tussen 1 en 60:\"))\n",
    "\n",
    "print(\"Alle getallen die deelbaar zijn door 9:\")\n",
    "for n in range(getal):\n",
    "    if (n%9)==0:\n",
    "        print(n)"
   ]
  },
  {
   "cell_type": "code",
   "execution_count": 3,
   "metadata": {},
   "outputs": [
    {
     "ename": "KeyboardInterrupt",
     "evalue": "Interrupted by user",
     "output_type": "error",
     "traceback": [
      "\u001b[1;31m---------------------------------------------------------------------------\u001b[0m",
      "\u001b[1;31mKeyboardInterrupt\u001b[0m                         Traceback (most recent call last)",
      "Cell \u001b[1;32mIn [3], line 7\u001b[0m\n\u001b[0;32m      4\u001b[0m totale_prijs_limonades \u001b[39m=\u001b[39m \u001b[39m0.0\u001b[39m\n\u001b[0;32m      6\u001b[0m \u001b[39mwhile\u001b[39;00m aantal_limonades \u001b[39m<\u001b[39m\u001b[39m=\u001b[39m \u001b[39m0\u001b[39m:\n\u001b[1;32m----> 7\u001b[0m     aantal_limonades \u001b[39m=\u001b[39m \u001b[39mint\u001b[39m(\u001b[39minput\u001b[39;49m(\u001b[39m\"\u001b[39;49m\u001b[39mGeef het aantal limonades dat u wil aanschaffen: \u001b[39;49m\u001b[39m\"\u001b[39;49m))\n\u001b[0;32m      9\u001b[0m totale_prijs_limonades \u001b[39m=\u001b[39m prijs_limonade \u001b[39m*\u001b[39m aantal_limonades\n\u001b[0;32m     10\u001b[0m \u001b[39mprint\u001b[39m(\u001b[39mf\u001b[39m\u001b[39m\"\u001b[39m\u001b[39mBeste klant, voor \u001b[39m\u001b[39m{\u001b[39;00maantal_limonades\u001b[39m}\u001b[39;00m\u001b[39m limonades is het in totaal \u001b[39m\u001b[39m{\u001b[39;00mtotale_prijs_limonades\u001b[39m}\u001b[39;00m\u001b[39m €\u001b[39m\u001b[39m\"\u001b[39m)\n",
      "File \u001b[1;32mc:\\Users\\BertPaelinckx\\OneDrive - Cube SoftwareSolutions\\Documents\\_Python\\venv\\lib\\site-packages\\ipykernel\\kernelbase.py:1177\u001b[0m, in \u001b[0;36mKernel.raw_input\u001b[1;34m(self, prompt)\u001b[0m\n\u001b[0;32m   1173\u001b[0m \u001b[39mif\u001b[39;00m \u001b[39mnot\u001b[39;00m \u001b[39mself\u001b[39m\u001b[39m.\u001b[39m_allow_stdin:\n\u001b[0;32m   1174\u001b[0m     \u001b[39mraise\u001b[39;00m StdinNotImplementedError(\n\u001b[0;32m   1175\u001b[0m         \u001b[39m\"\u001b[39m\u001b[39mraw_input was called, but this frontend does not support input requests.\u001b[39m\u001b[39m\"\u001b[39m\n\u001b[0;32m   1176\u001b[0m     )\n\u001b[1;32m-> 1177\u001b[0m \u001b[39mreturn\u001b[39;00m \u001b[39mself\u001b[39;49m\u001b[39m.\u001b[39;49m_input_request(\n\u001b[0;32m   1178\u001b[0m     \u001b[39mstr\u001b[39;49m(prompt),\n\u001b[0;32m   1179\u001b[0m     \u001b[39mself\u001b[39;49m\u001b[39m.\u001b[39;49m_parent_ident[\u001b[39m\"\u001b[39;49m\u001b[39mshell\u001b[39;49m\u001b[39m\"\u001b[39;49m],\n\u001b[0;32m   1180\u001b[0m     \u001b[39mself\u001b[39;49m\u001b[39m.\u001b[39;49mget_parent(\u001b[39m\"\u001b[39;49m\u001b[39mshell\u001b[39;49m\u001b[39m\"\u001b[39;49m),\n\u001b[0;32m   1181\u001b[0m     password\u001b[39m=\u001b[39;49m\u001b[39mFalse\u001b[39;49;00m,\n\u001b[0;32m   1182\u001b[0m )\n",
      "File \u001b[1;32mc:\\Users\\BertPaelinckx\\OneDrive - Cube SoftwareSolutions\\Documents\\_Python\\venv\\lib\\site-packages\\ipykernel\\kernelbase.py:1219\u001b[0m, in \u001b[0;36mKernel._input_request\u001b[1;34m(self, prompt, ident, parent, password)\u001b[0m\n\u001b[0;32m   1216\u001b[0m             \u001b[39mbreak\u001b[39;00m\n\u001b[0;32m   1217\u001b[0m \u001b[39mexcept\u001b[39;00m \u001b[39mKeyboardInterrupt\u001b[39;00m:\n\u001b[0;32m   1218\u001b[0m     \u001b[39m# re-raise KeyboardInterrupt, to truncate traceback\u001b[39;00m\n\u001b[1;32m-> 1219\u001b[0m     \u001b[39mraise\u001b[39;00m \u001b[39mKeyboardInterrupt\u001b[39;00m(\u001b[39m\"\u001b[39m\u001b[39mInterrupted by user\u001b[39m\u001b[39m\"\u001b[39m) \u001b[39mfrom\u001b[39;00m \u001b[39mNone\u001b[39m\n\u001b[0;32m   1220\u001b[0m \u001b[39mexcept\u001b[39;00m \u001b[39mException\u001b[39;00m:\n\u001b[0;32m   1221\u001b[0m     \u001b[39mself\u001b[39m\u001b[39m.\u001b[39mlog\u001b[39m.\u001b[39mwarning(\u001b[39m\"\u001b[39m\u001b[39mInvalid Message:\u001b[39m\u001b[39m\"\u001b[39m, exc_info\u001b[39m=\u001b[39m\u001b[39mTrue\u001b[39;00m)\n",
      "\u001b[1;31mKeyboardInterrupt\u001b[0m: Interrupted by user"
     ]
    }
   ],
   "source": [
    "# ************************************************ 01.12\n",
    "aantal_limonades = 0\n",
    "prijs_limonade = 3.0\n",
    "totale_prijs_limonades = 0.0\n",
    "\n",
    "while aantal_limonades <= 0:\n",
    "    aantal_limonades = int(input(\"Geef het aantal limonades dat u wil aanschaffen: \"))\n",
    "\n",
    "totale_prijs_limonades = prijs_limonade * aantal_limonades\n",
    "print(f\"Beste klant, voor {aantal_limonades} limonades is het in totaal {totale_prijs_limonades} €\")\n"
   ]
  }
 ],
 "metadata": {
  "kernelspec": {
   "display_name": "Python 3.10.7 ('venv': venv)",
   "language": "python",
   "name": "python3"
  },
  "language_info": {
   "codemirror_mode": {
    "name": "ipython",
    "version": 3
   },
   "file_extension": ".py",
   "mimetype": "text/x-python",
   "name": "python",
   "nbconvert_exporter": "python",
   "pygments_lexer": "ipython3",
   "version": "3.10.7"
  },
  "orig_nbformat": 4,
  "vscode": {
   "interpreter": {
    "hash": "6e4eaefea5ba3e591be65ee53116602e246fa9fc1faa17821b617bc5612e58f9"
   }
  }
 },
 "nbformat": 4,
 "nbformat_minor": 2
}
