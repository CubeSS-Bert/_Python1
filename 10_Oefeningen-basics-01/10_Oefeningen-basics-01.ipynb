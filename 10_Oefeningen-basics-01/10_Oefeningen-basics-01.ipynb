{
 "cells": [
  {
   "cell_type": "code",
   "execution_count": 3,
   "metadata": {},
   "outputs": [
    {
     "name": "stdout",
     "output_type": "stream",
     "text": [
      "kleiner\n"
     ]
    }
   ],
   "source": [
    "# ************************************************ 01.1\n",
    "print(3*4)"
   ]
  },
  {
   "cell_type": "code",
   "execution_count": 4,
   "metadata": {},
   "outputs": [
    {
     "name": "stdout",
     "output_type": "stream",
     "text": [
      "<\n"
     ]
    }
   ],
   "source": [
    "# ************************************************ 01.2\n",
    "if 4.6 < 5:\n",
    "    print(\"<\")\n",
    "else: print(\">=\")"
   ]
  },
  {
   "cell_type": "code",
   "execution_count": 8,
   "metadata": {},
   "outputs": [
    {
     "name": "stdout",
     "output_type": "stream",
     "text": [
      "1\n",
      "0\n",
      "3\n"
     ]
    }
   ],
   "source": [
    "# ************************************************ 01.3\n",
    "print(3//2)\n",
    "print(3//4)\n",
    "print(3%4)"
   ]
  },
  {
   "cell_type": "code",
   "execution_count": null,
   "metadata": {},
   "outputs": [],
   "source": [
    "getal = int(input(\"Geef een getal tussen 1 en 100: \"))\n",
    "\n",
    "if getal%2==0:\n",
    "    print(f\"Getal {getal} is even\")\n",
    "else: \n",
    "    print(f\"Getal {getal} is oneven\")\n"
   ]
  },
  {
   "cell_type": "code",
   "execution_count": 9,
   "metadata": {},
   "outputs": [
    {
     "name": "stdout",
     "output_type": "stream",
     "text": [
      "C\n"
     ]
    }
   ],
   "source": [
    "# ************************************************ 01.7\n",
    "quotering = \"F\"\n",
    "getal = int(input(\"Geef een getal  van 0 tot 20:\"))\n",
    "\n",
    "if getal < 5:\n",
    "    quotering = \"F\"\n",
    "elif getal < 9:\n",
    "    quotering = \"E\"\n",
    "elif getal < 12:\n",
    "    quotering = \"D\"\n",
    "elif getal < 15:\n",
    "    quotering = \"C\"\n",
    "elif getal < 18:\n",
    "    quotering = \"B\"\n",
    "else: quotering = \"A\"\n",
    "\n",
    "print(quotering)"
   ]
  },
  {
   "cell_type": "code",
   "execution_count": 11,
   "metadata": {},
   "outputs": [
    {
     "name": "stdout",
     "output_type": "stream",
     "text": [
      "1\n",
      "2\n",
      "3\n",
      "4\n",
      "5\n"
     ]
    }
   ],
   "source": [
    "# ************************************************ 01.8\n",
    "getal = int(input(\"Geef een getal tussen 1 en 10:\"))\n",
    "for n in range(getal):\n",
    "    if n != 0:\n",
    "        print(n)"
   ]
  }
 ],
 "metadata": {
  "kernelspec": {
   "display_name": "Python 3.10.7 ('venv': venv)",
   "language": "python",
   "name": "python3"
  },
  "language_info": {
   "codemirror_mode": {
    "name": "ipython",
    "version": 3
   },
   "file_extension": ".py",
   "mimetype": "text/x-python",
   "name": "python",
   "nbconvert_exporter": "python",
   "pygments_lexer": "ipython3",
   "version": "3.10.7"
  },
  "orig_nbformat": 4,
  "vscode": {
   "interpreter": {
    "hash": "6e4eaefea5ba3e591be65ee53116602e246fa9fc1faa17821b617bc5612e58f9"
   }
  }
 },
 "nbformat": 4,
 "nbformat_minor": 2
}
