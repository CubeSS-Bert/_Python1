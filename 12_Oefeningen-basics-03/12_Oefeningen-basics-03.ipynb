{
 "cells": [
  {
   "cell_type": "code",
   "execution_count": 4,
   "metadata": {},
   "outputs": [
    {
     "name": "stdout",
     "output_type": "stream",
     "text": [
      "Veel\n"
     ]
    }
   ],
   "source": [
    "x = int(input(\"Geef een getal groter dan 1000: \"))\n",
    "\n",
    "if x > 0 and x < 10:\n",
    "    print(\"Test\")\n",
    "\n",
    "if 500 < x < 1100:\n",
    "    print(\"Veel\")\n",
    "    \n",
    "    \n",
    "    "
   ]
  },
  {
   "cell_type": "code",
   "execution_count": 8,
   "metadata": {},
   "outputs": [],
   "source": [
    "x = \"abc\"\n",
    "y = \"12\"\n",
    "z = 12\n",
    "\n",
    "# Geeft een 'TypeError'\n",
    "# x * y    \n",
    "d = x * z\n"
   ]
  },
  {
   "cell_type": "code",
   "execution_count": 10,
   "metadata": {},
   "outputs": [
    {
     "data": {
      "text/plain": [
       "'Gbcabcabcabcabcabcabcabcabcabcabcabc'"
      ]
     },
     "execution_count": 10,
     "metadata": {},
     "output_type": "execute_result"
    }
   ],
   "source": [
    "# Vervang eerste letter en vervang door \"G\"\n",
    "d = d.replace(d[0], \"G\", 1)\n",
    "\n",
    "# Vervang 3de letter door \"F\" uit een string\n",
    "# d = d[:2] + \"F\" + d[3:]\n",
    "\n",
    "d\n"
   ]
  },
  {
   "cell_type": "code",
   "execution_count": null,
   "metadata": {},
   "outputs": [],
   "source": [
    "x = (\"apple\", \"banana\", \"cherry\")\n",
    "y = list(x)\n",
    "y[1] = \"kiwi\"\n",
    "x = tuple(y)\n",
    "\n"
   ]
  },
  {
   "cell_type": "code",
   "execution_count": 13,
   "metadata": {},
   "outputs": [
    {
     "name": "stdout",
     "output_type": "stream",
     "text": [
      "Number is : 0\n",
      "Number is : 1\n",
      "Number is : 2\n",
      "Number is : 3\n",
      "Number is : 4\n",
      "Number is : 6\n",
      "Number is : 7\n",
      "Number is : 8\n",
      "Number is : 9\n",
      "Out of loop\n"
     ]
    }
   ],
   "source": [
    "number = 0\n",
    "\n",
    "for number in range(10):\n",
    "    if number == 5:\n",
    "        # break # break here\n",
    "        continue # break here\n",
    "        # pass # break here\n",
    "    \n",
    "    print('Number is : ' + str(number))\n",
    "    \n",
    "    \n",
    "print('Out of loop')\n",
    "\n",
    "\n",
    "    "
   ]
  },
  {
   "cell_type": "code",
   "execution_count": 36,
   "metadata": {},
   "outputs": [
    {
     "name": "stdout",
     "output_type": "stream",
     "text": [
      "2022-10-18 21:08:22.456117\n",
      "0:00:00\n",
      "<built-in method total_seconds of datetime.timedelta object at 0x00000200B61C8870>\n"
     ]
    }
   ],
   "source": [
    "import datetime\n",
    "\n",
    "begin_time = datetime.datetime.now()\n",
    "\n",
    "begin_time\n",
    "print(begin_time)\n",
    "print(datetime.datetime.now() - begin_time)\n",
    "print((datetime.datetime.now() - begin_time).total_seconds)\n"
   ]
  },
  {
   "cell_type": "code",
   "execution_count": 37,
   "metadata": {},
   "outputs": [
    {
     "name": "stdout",
     "output_type": "stream",
     "text": [
      "5.371761322021484 komt in de buurt, na  117 pogingen.\n"
     ]
    }
   ],
   "source": [
    "# 3de graadswortel obv van verschillende algoritmen\n",
    "cube = 155\n",
    "fout_marge = 0.01\n",
    "gok = 0.0\n",
    "aantal_gokken = 100\n",
    "increment = 0.0001\n",
    "low = 0\n",
    "high = cube\n",
    "#  ----------------------- 1 -------------------- Raden\n",
    "# for gok in range(cube):\n",
    "#     if (gok ** 3) == cube:\n",
    "#         print(\"Bingo: \", gok)\n",
    "\n",
    "#  ----------------------- 2 -------------------- Schatten\n",
    "# while abs(gok**3 - cube) >= fout_marge:\n",
    "#     gok += increment\n",
    "#     aantal_gokken += 1\n",
    "# print(\"Aantal gokken = \", aantal_gokken)\n",
    "\n",
    "# if abs(gok**3 - cube) >= fout_marge:\n",
    "#     print(\"Geen benadering binnen fout marge.\")\n",
    "# else:\n",
    "#     print(gok, 'komt in de buurt, na ', aantal_gokken, \"pogingen.\")\n",
    "\n",
    "#  ----------------------- 3 -------------------- Halvering\n",
    "gok = (low + high)/2\n",
    "\n",
    "while abs(gok**3-cube) >= fout_marge:\n",
    "    if gok**3 < cube:\n",
    "        low = gok\n",
    "    else:\n",
    "        high = gok      \n",
    "    gok = (low + high) / 2\n",
    "    aantal_gokken += 1\n",
    "    \n",
    "if abs(gok**3 - cube) >= fout_marge:\n",
    "    print(\"Geen benadering binnen fout marge.\")\n",
    "else:\n",
    "    print(gok, 'komt in de buurt, na ', aantal_gokken, \"pogingen.\")\n",
    "\n",
    "\n",
    "\n",
    "\n",
    "\n"
   ]
  },
  {
   "cell_type": "code",
   "execution_count": 3,
   "metadata": {},
   "outputs": [
    {
     "name": "stdout",
     "output_type": "stream",
     "text": [
      "a\n",
      "1:  None\n",
      "b\n",
      "2:  7\n",
      "c\n",
      "a\n",
      "3:  None\n"
     ]
    }
   ],
   "source": [
    "def func_a():\n",
    "    print(\"a\")\n",
    "    \n",
    "def func_b(y):\n",
    "    print(\"b\")\n",
    "    return y\n",
    "\n",
    "def func_c(z):\n",
    "    print(\"c\")\n",
    "    return z()\n",
    "\n",
    "\n",
    "print(\"1: \", func_a())\n",
    "print(\"2: \", func_b(2) + 5)\n",
    "# OPGELET func_a bevat geen haakjes\n",
    "print(\"3: \", func_c(func_a))\n",
    "\n",
    "\n"
   ]
  },
  {
   "cell_type": "code",
   "execution_count": 4,
   "metadata": {},
   "outputs": [
    {
     "name": "stdout",
     "output_type": "stream",
     "text": [
      "2\n",
      "5\n"
     ]
    }
   ],
   "source": [
    "def f(y):\n",
    "    x = 1\n",
    "    x += 1\n",
    "    print(x)\n",
    "\n",
    "x=5\n",
    "f(x)\n",
    "print(x)\n"
   ]
  },
  {
   "cell_type": "code",
   "execution_count": 7,
   "metadata": {},
   "outputs": [
    {
     "name": "stdout",
     "output_type": "stream",
     "text": [
      "1\n",
      "2\n",
      "8\n",
      "5\n"
     ]
    }
   ],
   "source": [
    "def g(y):\n",
    "    # x = 1\n",
    "    print(x)\n",
    "    print(x+1)\n",
    "    print(x+7)\n",
    "    \n",
    "x=5\n",
    "g(x)\n",
    "print(x)"
   ]
  },
  {
   "cell_type": "code",
   "execution_count": 9,
   "metadata": {},
   "outputs": [
    {
     "ename": "UnboundLocalError",
     "evalue": "local variable 'x' referenced before assignment",
     "output_type": "error",
     "traceback": [
      "\u001b[1;31m---------------------------------------------------------------------------\u001b[0m",
      "\u001b[1;31mUnboundLocalError\u001b[0m                         Traceback (most recent call last)",
      "Cell \u001b[1;32mIn [9], line 5\u001b[0m\n\u001b[0;32m      2\u001b[0m     x \u001b[39m+\u001b[39m\u001b[39m=\u001b[39m \u001b[39m1\u001b[39m\n\u001b[0;32m      4\u001b[0m x\u001b[39m=\u001b[39m\u001b[39m5\u001b[39m\n\u001b[1;32m----> 5\u001b[0m h(x)\n\u001b[0;32m      6\u001b[0m \u001b[39mprint\u001b[39m(x)\n",
      "Cell \u001b[1;32mIn [9], line 2\u001b[0m, in \u001b[0;36mh\u001b[1;34m(y)\u001b[0m\n\u001b[0;32m      1\u001b[0m \u001b[39mdef\u001b[39;00m \u001b[39mh\u001b[39m(y):\n\u001b[1;32m----> 2\u001b[0m     x \u001b[39m+\u001b[39m\u001b[39m=\u001b[39m \u001b[39m1\u001b[39m\n",
      "\u001b[1;31mUnboundLocalError\u001b[0m: local variable 'x' referenced before assignment"
     ]
    }
   ],
   "source": [
    "def h(y):\n",
    "    x += 1\n",
    "\n",
    "x=5\n",
    "h(x)\n",
    "print(x)\n",
    "\n"
   ]
  },
  {
   "cell_type": "code",
   "execution_count": 10,
   "metadata": {},
   "outputs": [
    {
     "name": "stdout",
     "output_type": "stream",
     "text": [
      "g : x=  4\n",
      "abc\n",
      "3\n"
     ]
    }
   ],
   "source": [
    "def g(x):\n",
    "    def h():\n",
    "        x=\"abc\"\n",
    "        print(x)\n",
    "    x += 1\n",
    "    print(\"g : x= \", x)\n",
    "    h()\n",
    "    return x\n",
    "\n",
    "x = 3\n",
    "z = g(x)\n",
    "print(x)\n",
    "\n"
   ]
  },
  {
   "cell_type": "code",
   "execution_count": 18,
   "metadata": {},
   "outputs": [
    {
     "name": "stdout",
     "output_type": "stream",
     "text": [
      "aaaaa\n",
      "aaaaa 1\n",
      "aaa\n",
      "aaaa\n"
     ]
    },
    {
     "ename": "TypeError",
     "evalue": "vermeerder_letter() got an unexpected keyword argument 'leter'",
     "output_type": "error",
     "traceback": [
      "\u001b[1;31m---------------------------------------------------------------------------\u001b[0m",
      "\u001b[1;31mTypeError\u001b[0m                                 Traceback (most recent call last)",
      "Cell \u001b[1;32mIn [18], line 8\u001b[0m\n\u001b[0;32m      6\u001b[0m \u001b[39mprint\u001b[39m(vermeerder_letter(\u001b[39m\"\u001b[39m\u001b[39ma\u001b[39m\u001b[39m\"\u001b[39m, \u001b[39m3\u001b[39m))\n\u001b[0;32m      7\u001b[0m \u001b[39mprint\u001b[39m(vermeerder_letter(letter \u001b[39m=\u001b[39m \u001b[39m\"\u001b[39m\u001b[39ma\u001b[39m\u001b[39m\"\u001b[39m, x\u001b[39m=\u001b[39m\u001b[39m4\u001b[39m))\n\u001b[1;32m----> 8\u001b[0m \u001b[39mprint\u001b[39m(vermeerder_letter(leter \u001b[39m=\u001b[39;49m \u001b[39m\"\u001b[39;49m\u001b[39ma\u001b[39;49m\u001b[39m\"\u001b[39;49m, y\u001b[39m=\u001b[39;49m\u001b[39m6\u001b[39;49m))\n",
      "\u001b[1;31mTypeError\u001b[0m: vermeerder_letter() got an unexpected keyword argument 'leter'"
     ]
    }
   ],
   "source": [
    "def vermeerder_letter(letter, x=5):\n",
    "    return letter * x\n",
    "\n",
    "print(vermeerder_letter(\"a\"))\n",
    "print(vermeerder_letter(\"a\"), 1)\n",
    "print(vermeerder_letter(\"a\", 3))\n",
    "print(vermeerder_letter(letter = \"a\", x=4))\n",
    "print(vermeerder_letter(leter = \"a\", y=6))\n",
    "\n"
   ]
  },
  {
   "cell_type": "code",
   "execution_count": 20,
   "metadata": {},
   "outputs": [
    {
     "name": "stdout",
     "output_type": "stream",
     "text": [
      "AAAA\t\t0\t\tA\n",
      "n\t\t1\t\tA\n",
      "tttt\t\t2\t\tA\n",
      "ww\t\t3\t\tA\n",
      "aaaaa\t\t4\t\tA\n",
      "aa\t\t5\t\tA\n",
      "a\t\t6\t\tA\n",
      "rr\t\t7\t\tA\n",
      "ppp\t\t8\t\tA\n"
     ]
    }
   ],
   "source": [
    "import random\n",
    "word= \"Antwaaarp\"\n",
    "\n",
    "def print_woord(word):\n",
    "    for index, letter in enumerate(word):\n",
    "        letter = letter * random.randint(1,5)\n",
    "        print (letter, index, \"A\", sep='\\t\\t')\n",
    "\n",
    "print_woord(word)\n",
    "\n"
   ]
  },
  {
   "cell_type": "code",
   "execution_count": 21,
   "metadata": {},
   "outputs": [
    {
     "ename": "ModuleNotFoundError",
     "evalue": "No module named 'utils'",
     "output_type": "error",
     "traceback": [
      "\u001b[1;31m---------------------------------------------------------------------------\u001b[0m",
      "\u001b[1;31mModuleNotFoundError\u001b[0m                       Traceback (most recent call last)",
      "Cell \u001b[1;32mIn [21], line 2\u001b[0m\n\u001b[0;32m      1\u001b[0m \u001b[39mimport\u001b[39;00m \u001b[39mmath\u001b[39;00m\n\u001b[1;32m----> 2\u001b[0m \u001b[39mfrom\u001b[39;00m \u001b[39mutils\u001b[39;00m\u001b[39m.\u001b[39;00m\u001b[39musefull_classes\u001b[39;00m \u001b[39mimport\u001b[39;00m Point\n\u001b[0;32m      3\u001b[0m Punt_1 \u001b[39m=\u001b[39m Point(\u001b[39m0\u001b[39m,\u001b[39m0\u001b[39m)\n\u001b[0;32m      4\u001b[0m Punt_2 \u001b[39m=\u001b[39m Point(\u001b[39m0\u001b[39m,\u001b[39m0\u001b[39m)\n",
      "\u001b[1;31mModuleNotFoundError\u001b[0m: No module named 'utils'"
     ]
    }
   ],
   "source": [
    "import math\n",
    "from utils.usefull_classes import Point\n",
    "Punt_1 = Point(0,0)\n",
    "Punt_2 = Point(0,0)\n",
    "\n",
    "def bereken_helling(punt_1=Point(0,0), punt_2=Point(0,0)):\n",
    "    helling = float(0)\n",
    "    helling = ( punt_2.posy - punt_1.posy ) / ( punt_2.posx - punt_1.posx )\n",
    "    return helling\n",
    "\n",
    "def bepaal_afstand_tussen(punt_1=Point(0,0), punt_2=Point(0,0)):\n",
    "    afstand = float(0)\n",
    "    afstand = math.sqrt((( punt_2.posx - punt_1.posx ) ** 2 ) + (( punt_2.posy - punt_2.posy ) ** 2 ))\n",
    "    return afstand\n",
    "\n",
    "InputPunt_1_x = float(input(f\"Geef voor eerste punt, coördinaat x (float): \"))\n",
    "InputPunt_1_y = float(input(f\"Geef voor eerstGeefe punt, coördinaat y (float): \"))\n",
    "Punt_1.set_xy(InputPunt_1_x, InputPunt_1_y)\n",
    "InputPunt_2_x = float(input(f\"Geef voor tweede punt, coördinaat x (float): \"))\n",
    "InputPunt_2_y = float(input(f\"Geef voor tweede punt, coördinaat y (float): \"))\n",
    "Punt_2.set_xy(InputPunt_2_x, InputPunt_2_y)\n",
    "\n",
    "# print(Punt_1.posx)\n",
    "print(bereken_helling(Punt_1, Punt_2))\n",
    "print(bepaal_afstand_tussen(Punt_1, Punt_2))\n"
   ]
  }
 ],
 "metadata": {
  "kernelspec": {
   "display_name": "Python 3.10.7 ('venv': venv)",
   "language": "python",
   "name": "python3"
  },
  "language_info": {
   "codemirror_mode": {
    "name": "ipython",
    "version": 3
   },
   "file_extension": ".py",
   "mimetype": "text/x-python",
   "name": "python",
   "nbconvert_exporter": "python",
   "pygments_lexer": "ipython3",
   "version": "3.10.7"
  },
  "orig_nbformat": 4,
  "vscode": {
   "interpreter": {
    "hash": "6e4eaefea5ba3e591be65ee53116602e246fa9fc1faa17821b617bc5612e58f9"
   }
  }
 },
 "nbformat": 4,
 "nbformat_minor": 2
}
