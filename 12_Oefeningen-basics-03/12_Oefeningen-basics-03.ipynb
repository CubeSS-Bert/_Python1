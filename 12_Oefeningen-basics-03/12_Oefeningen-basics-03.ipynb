{
 "cells": [
  {
   "cell_type": "code",
   "execution_count": 4,
   "metadata": {},
   "outputs": [
    {
     "name": "stdout",
     "output_type": "stream",
     "text": [
      "Veel\n"
     ]
    }
   ],
   "source": [
    "x = int(input(\"Geef een getal groter dan 1000: \"))\n",
    "\n",
    "if x > 0 and x < 10:\n",
    "    print(\"Test\")\n",
    "\n",
    "if 500 < x < 1100:\n",
    "    print(\"Veel\")\n",
    "    \n",
    "    \n",
    "    "
   ]
  },
  {
   "cell_type": "code",
   "execution_count": 8,
   "metadata": {},
   "outputs": [],
   "source": [
    "x = \"abc\"\n",
    "y = \"12\"\n",
    "z = 12\n",
    "\n",
    "# Geeft een 'TypeError'\n",
    "# x * y    \n",
    "d = x * z\n"
   ]
  },
  {
   "cell_type": "code",
   "execution_count": 10,
   "metadata": {},
   "outputs": [
    {
     "data": {
      "text/plain": [
       "'Gbcabcabcabcabcabcabcabcabcabcabcabc'"
      ]
     },
     "execution_count": 10,
     "metadata": {},
     "output_type": "execute_result"
    }
   ],
   "source": [
    "# Vervang eerste letter en vervang door \"G\"\n",
    "d = d.replace(d[0], \"G\", 1)\n",
    "\n",
    "# Vervang 3de letter door \"F\" uit een string\n",
    "# d = d[:2] + \"F\" + d[3:]\n",
    "\n",
    "d\n"
   ]
  },
  {
   "cell_type": "code",
   "execution_count": null,
   "metadata": {},
   "outputs": [],
   "source": [
    "x = (\"apple\", \"banana\", \"cherry\")\n",
    "y = list(x)\n",
    "y[1] = \"kiwi\"\n",
    "x = tuple(y)\n",
    "\n"
   ]
  },
  {
   "cell_type": "code",
   "execution_count": 13,
   "metadata": {},
   "outputs": [
    {
     "name": "stdout",
     "output_type": "stream",
     "text": [
      "Number is : 0\n",
      "Number is : 1\n",
      "Number is : 2\n",
      "Number is : 3\n",
      "Number is : 4\n",
      "Number is : 6\n",
      "Number is : 7\n",
      "Number is : 8\n",
      "Number is : 9\n",
      "Out of loop\n"
     ]
    }
   ],
   "source": [
    "number = 0\n",
    "\n",
    "for number in range(10):\n",
    "    if number == 5:\n",
    "        # break # break here\n",
    "        continue # break here\n",
    "        # pass # break here\n",
    "    \n",
    "    print('Number is : ' + str(number))\n",
    "    \n",
    "    \n",
    "print('Out of loop')\n",
    "\n",
    "\n",
    "    "
   ]
  },
  {
   "cell_type": "code",
   "execution_count": 36,
   "metadata": {},
   "outputs": [
    {
     "name": "stdout",
     "output_type": "stream",
     "text": [
      "2022-10-18 21:08:22.456117\n",
      "0:00:00\n",
      "<built-in method total_seconds of datetime.timedelta object at 0x00000200B61C8870>\n"
     ]
    }
   ],
   "source": [
    "import datetime\n",
    "\n",
    "begin_time = datetime.datetime.now()\n",
    "\n",
    "begin_time\n",
    "print(begin_time)\n",
    "print(datetime.datetime.now() - begin_time)\n",
    "print((datetime.datetime.now() - begin_time).total_seconds)\n"
   ]
  },
  {
   "cell_type": "code",
   "execution_count": 37,
   "metadata": {},
   "outputs": [
    {
     "name": "stdout",
     "output_type": "stream",
     "text": [
      "5.371761322021484 komt in de buurt, na  117 pogingen.\n"
     ]
    }
   ],
   "source": [
    "# 3de graadswortel obv van verschillende algoritmen\n",
    "cube = 155\n",
    "fout_marge = 0.01\n",
    "gok = 0.0\n",
    "aantal_gokken = 100\n",
    "increment = 0.0001\n",
    "low = 0\n",
    "high = cube\n",
    "#  ----------------------- 1 -------------------- Raden\n",
    "# for gok in range(cube):\n",
    "#     if (gok ** 3) == cube:\n",
    "#         print(\"Bingo: \", gok)\n",
    "\n",
    "#  ----------------------- 2 -------------------- Schatten\n",
    "# while abs(gok**3 - cube) >= fout_marge:\n",
    "#     gok += increment\n",
    "#     aantal_gokken += 1\n",
    "# print(\"Aantal gokken = \", aantal_gokken)\n",
    "\n",
    "# if abs(gok**3 - cube) >= fout_marge:\n",
    "#     print(\"Geen benadering binnen fout marge.\")\n",
    "# else:\n",
    "#     print(gok, 'komt in de buurt, na ', aantal_gokken, \"pogingen.\")\n",
    "\n",
    "#  ----------------------- 3 -------------------- Halvering\n",
    "gok = (low + high)/2\n",
    "\n",
    "while abs(gok**3-cube) >= fout_marge:\n",
    "    if gok**3 < cube:\n",
    "        low = gok\n",
    "    else:\n",
    "        high = gok      \n",
    "    gok = (low + high) / 2\n",
    "    aantal_gokken += 1\n",
    "    \n",
    "if abs(gok**3 - cube) >= fout_marge:\n",
    "    print(\"Geen benadering binnen fout marge.\")\n",
    "else:\n",
    "    print(gok, 'komt in de buurt, na ', aantal_gokken, \"pogingen.\")\n",
    "\n",
    "\n",
    "\n",
    "\n",
    "\n"
   ]
  }
 ],
 "metadata": {
  "kernelspec": {
   "display_name": "Python 3.10.7 ('venv': venv)",
   "language": "python",
   "name": "python3"
  },
  "language_info": {
   "codemirror_mode": {
    "name": "ipython",
    "version": 3
   },
   "file_extension": ".py",
   "mimetype": "text/x-python",
   "name": "python",
   "nbconvert_exporter": "python",
   "pygments_lexer": "ipython3",
   "version": "3.10.7"
  },
  "orig_nbformat": 4,
  "vscode": {
   "interpreter": {
    "hash": "6e4eaefea5ba3e591be65ee53116602e246fa9fc1faa17821b617bc5612e58f9"
   }
  }
 },
 "nbformat": 4,
 "nbformat_minor": 2
}
