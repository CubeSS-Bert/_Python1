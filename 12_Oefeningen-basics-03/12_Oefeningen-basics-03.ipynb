{
 "cells": [
  {
   "cell_type": "code",
   "execution_count": null,
   "metadata": {},
   "outputs": [],
   "source": []
  }
 ],
 "metadata": {
  "kernelspec": {
   "display_name": "Python 3.10.7 ('venv': venv)",
   "language": "python",
   "name": "python3"
  },
  "language_info": {
   "name": "python",
   "version": "3.10.7"
  },
  "orig_nbformat": 4,
  "vscode": {
   "interpreter": {
    "hash": "6e4eaefea5ba3e591be65ee53116602e246fa9fc1faa17821b617bc5612e58f9"
   }
  }
 },
 "nbformat": 4,
 "nbformat_minor": 2
}
